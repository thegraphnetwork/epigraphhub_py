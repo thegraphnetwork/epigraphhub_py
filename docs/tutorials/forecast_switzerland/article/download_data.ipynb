{
 "cells": [
  {
   "cell_type": "markdown",
   "id": "27ad6f4d",
   "metadata": {},
   "source": [
    "In this notebook are shown the codes used to extract and transform the data saved in the Epigraphhub platform (https://epigraphhub.org/) and save it in the data folder."
   ]
  },
  {
   "cell_type": "code",
   "execution_count": 1,
   "id": "0621d91f",
   "metadata": {},
   "outputs": [],
   "source": [
    "import os \n",
    "os.chdir('../../')\n",
    "from epigraphhub.data.foph.viz import get_cluster_data, get_georegion_data"
   ]
  },
  {
   "cell_type": "markdown",
   "id": "5d175a2b",
   "metadata": {},
   "source": [
    "The code below is used o get the data to compute the clusters:"
   ]
  },
  {
   "cell_type": "code",
   "execution_count": 2,
   "id": "028b3ea7",
   "metadata": {},
   "outputs": [],
   "source": [
    "df = get_georegion_data(\n",
    "        \"switzerland\",\n",
    "        \"foph_cases_d\",\n",
    "        \"All\",\n",
    "        [\"datum\", '\"georegion\"', \"entries\"],\n",
    "        \"georegion\",\n",
    "    )\n",
    "\n",
    "df.set_index('datum', inplace = True)\n",
    "\n",
    "df.to_csv(f'./examples/forecast_switzerland/data_article/data_to_get_clusters.csv')"
   ]
  },
  {
   "cell_type": "markdown",
   "id": "4c1decd6",
   "metadata": {},
   "source": [
    "The code below is used to get the data to train the models: "
   ]
  },
  {
   "cell_type": "code",
   "execution_count": 3,
   "id": "cf80e732",
   "metadata": {},
   "outputs": [],
   "source": [
    "\n",
    "       \n",
    "d_cantons = {'GE': ['FR', 'GE', 'JU', 'NE', 'TI', 'VD', 'VS'] , 'BE': ['AG', 'AI', 'AR', 'BE', 'BL', 'BS', 'GL', 'GR', 'LU', 'NW', 'OW',\n",
    "        'SG', 'SH', 'SO', 'SZ', 'TG', 'UR', 'ZG', 'ZH'], 'ZH': ['AG', 'AI', 'AR', 'BE', 'BL', 'BS', 'GL', 'GR', 'LU', 'NW', 'OW',\n",
    "        'SG', 'SH', 'SO', 'SZ', 'TG', 'UR', 'ZG', 'ZH']} \n",
    "\n",
    "for canton in d_cantons: \n",
    "    df = get_cluster_data('switzerland', ['foph_test_d', 'foph_cases_d', 'foph_hosp_d'], d_cantons[canton] , vaccine = True, smooth = True)  \n",
    "    \n",
    "    df.to_csv(f'./examples/forecast_switzerland/data_article/data_{canton}.csv')"
   ]
  },
  {
   "cell_type": "code",
   "execution_count": null,
   "id": "dd4a99e5",
   "metadata": {},
   "outputs": [],
   "source": []
  }
 ],
 "metadata": {
  "kernelspec": {
   "display_name": "Python 3.10.6 64-bit",
   "language": "python",
   "name": "python3"
  },
  "language_info": {
   "codemirror_mode": {
    "name": "ipython",
    "version": 3
   },
   "file_extension": ".py",
   "mimetype": "text/x-python",
   "name": "python",
   "nbconvert_exporter": "python",
   "pygments_lexer": "ipython3",
   "version": "3.10.6"
  },
  "vscode": {
   "interpreter": {
    "hash": "916dbcbb3f70747c44a77c7bcd40155683ae19c65e1c03b4aa3499c5328201f1"
   }
  }
 },
 "nbformat": 4,
 "nbformat_minor": 5
}
