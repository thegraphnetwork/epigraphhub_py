{
 "cells": [
  {
   "cell_type": "code",
   "execution_count": 1,
   "id": "da8114f2",
   "metadata": {},
   "outputs": [
    {
     "name": "stdout",
     "output_type": "stream",
     "text": [
      "{'dbname': 'epigraphhub', 'host': 'localhost', 'password': 'epigraph', 'port': 5432, 'username': 'epigraph'}\n"
     ]
    }
   ],
   "source": [
    "import copy\n",
    "import numpy as np\n",
    "import pandas as pd \n",
    "from joblib import dump, load\n",
    "import matplotlib.pyplot as plt\n",
    "from epigraphhub.analysis.preprocessing import build_lagged_features\n",
    "from epigraphhub.data.foph import get_cluster_data\n",
    "from epigraphhub.analysis.forecast_models.ngboost_models import get_targets \n",
    "from forecast_swiss import get_cluster_by_canton"
   ]
  },
  {
   "cell_type": "code",
   "execution_count": 2,
   "id": "bb6986cf",
   "metadata": {},
   "outputs": [],
   "source": [
    "def load_evaluate(target_curve_name, canton, predictors = ['foph_test_d', 'foph_cases_d', 'foph_hosp_d'],  ini_date = '2020-05-01', end_date = None,  predict_n = 14, look_back = 14, path = 'saved_models_dash'):\n",
    "    \n",
    "    target_name = f'{target_curve_name}_{canton}'\n",
    "    \n",
    "    cluster = get_cluster_by_canton(canton)\n",
    "    \n",
    "    data = get_cluster_data(\n",
    "            \"switzerland\", predictors, list(cluster), vaccine=True, smooth=True \n",
    "        )\n",
    "\n",
    "    data = data.fillna(0)            \n",
    "    \n",
    "    df_lag = build_lagged_features(copy.deepcopy(data), maxlag = look_back)\n",
    "\n",
    "    if ini_date != None: \n",
    "        df_lag = df_lag[ini_date:]\n",
    "\n",
    "    if end_date != None: \n",
    "        df_lag = df_lag[:end_date]\n",
    "\n",
    "    df_lag = df_lag.dropna()\n",
    "\n",
    "    target = df_lag[target_name]\n",
    "\n",
    "    targets = get_targets(target, predict_n)\n",
    "\n",
    "    # remove the target column and columns related with the day that we want to predict\n",
    "    df_lag = df_lag.drop(data.columns, axis=1)\n",
    "\n",
    "    idx = pd.period_range(\n",
    "            start=df_lag.index[0], end=df_lag.index[-1], freq=f\"{predict_n}D\"\n",
    "        )\n",
    "     \n",
    "    idx = idx.to_timestamp()\n",
    "\n",
    "    preds5 = np.empty((len(idx), predict_n))\n",
    "    preds50 = np.empty((len(idx), predict_n))\n",
    "    preds95 = np.empty((len(idx), predict_n))\n",
    "\n",
    "    for T in range(1, predict_n + 1):\n",
    "\n",
    "        tgt = targets[T]\n",
    "\n",
    "        model = load(f\"{path}/ngboost_{target_name}_{T}.joblib\")\n",
    "\n",
    "        pred = model.pred_dist(df_lag.loc[idx], max_iter = model.best_val_loss_itr)\n",
    "\n",
    "        pred50 = pred.median()\n",
    "\n",
    "        pred5, pred95 = pred.interval(alpha=0.95)\n",
    "\n",
    "        preds5[:, (T - 1)] = pred5\n",
    "        preds50[:, (T - 1)] = pred50\n",
    "        preds95[:, (T - 1)] = pred95\n",
    "\n",
    "\n",
    "    y5 = preds5.flatten()\n",
    "    y50 = preds50.flatten()\n",
    "    y95 = preds95.flatten()\n",
    "\n",
    "    x = pd.period_range(\n",
    "            start=df_lag.index[1], end=df_lag.index[-1], freq=\"D\"\n",
    "        ).to_timestamp()\n",
    "\n",
    "    x = np.array(x)\n",
    "\n",
    "    y5 = np.array(y5)\n",
    "\n",
    "    y50 = np.array(y50)\n",
    "\n",
    "    y95 = np.array(y95)\n",
    "\n",
    "    dif = len(x) - len(y5)\n",
    "\n",
    "    if dif < 0:\n",
    "        y5 = y5[: len(y5) + dif]\n",
    "        y50 = y50[: len(y50) + dif]\n",
    "        y95 = y95[: len(y95) + dif]\n",
    "\n",
    "    df_pred = pd.DataFrame()\n",
    "    df_pred[\"target\"] = target[1:]\n",
    "    df_pred[\"date\"] = x\n",
    "    df_pred[\"lower\"] = y5\n",
    "    df_pred[\"median\"] = y50\n",
    "    df_pred[\"upper\"] = y95\n",
    "    df_pred.set_index('date', inplace = True)\n",
    "    df_pred.index = pd.to_datetime(df_pred.index)\n",
    "    \n",
    "    return df_pred\n"
   ]
  },
  {
   "cell_type": "code",
   "execution_count": 3,
   "id": "b2aca839",
   "metadata": {},
   "outputs": [
    {
     "name": "stdout",
     "output_type": "stream",
     "text": [
      "CPU times: user 2.19 s, sys: 122 ms, total: 2.31 s\n",
      "Wall time: 25.3 s\n"
     ]
    }
   ],
   "source": [
    "%%time\n",
    "target_curve_name = 'hosp'\n",
    "canton = 'GE'\n",
    "df = load_evaluate(target_curve_name, canton)\n",
    "    "
   ]
  },
  {
   "cell_type": "code",
   "execution_count": 4,
   "id": "530b83a5",
   "metadata": {},
   "outputs": [
    {
     "data": {
      "image/png": "[encoded data removed]",
      "text/plain": [
       "<Figure size 432x288 with 1 Axes>"
      ]
     },
     "metadata": {
      "needs_background": "light"
     },
     "output_type": "display_data"
    }
   ],
   "source": [
    "plt.figure()\n",
    "\n",
    "plt.plot(df['target'], label = 'Data')\n",
    "plt.plot(df['median'], label = 'predict')\n",
    "\n",
    "plt.legend()\n",
    "plt.xticks(rotation = 30)\n",
    "plt.grid()\n",
    "plt.show()"
   ]
  },
  {
   "cell_type": "code",
   "execution_count": null,
   "id": "e79b77f8",
   "metadata": {},
   "outputs": [],
   "source": []
  }
 ],
 "metadata": {
  "kernelspec": {
   "display_name": "Python 3 (ipykernel)",
   "language": "python",
   "name": "python3"
  },
  "language_info": {
   "codemirror_mode": {
    "name": "ipython",
    "version": 3
   },
   "file_extension": ".py",
   "mimetype": "text/x-python",
   "name": "python",
   "nbconvert_exporter": "python",
   "pygments_lexer": "ipython3",
   "version": "3.9.12"
  }
 },
 "nbformat": 4,
 "nbformat_minor": 5
}
