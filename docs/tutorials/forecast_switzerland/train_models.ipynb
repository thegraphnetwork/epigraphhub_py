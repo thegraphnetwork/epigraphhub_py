{
 "cells": [
  {
   "cell_type": "code",
   "execution_count": 1,
   "id": "f7925843",
   "metadata": {},
   "outputs": [
    {
     "name": "stdout",
     "output_type": "stream",
     "text": [
      "{'dbname': 'epigraphhub', 'host': 'localhost', 'password': 'epigraph', 'port': 5432, 'username': 'epigraph'}\n"
     ]
    }
   ],
   "source": [
    "from forecast_swiss import train_all_cantons"
   ]
  },
  {
   "cell_type": "code",
   "execution_count": 2,
   "id": "ce672d83",
   "metadata": {},
   "outputs": [],
   "source": [
    "target_curve_name = \"hosp\"\n",
    "predictors = [\"foph_test_d\", \"foph_cases_d\", \"foph_hosp_d\"]\n",
    "ini_date = \"2020-05-01\"\n",
    "\n",
    "train_all_cantons(\n",
    "    target_curve_name,\n",
    "    predictors,\n",
    "    ini_date=ini_date,\n",
    "    path=\"saved_models_dash\",\n",
    ")"
   ]
  },
  {
   "cell_type": "code",
   "execution_count": 3,
   "id": "db202a03-db4a-4c44-bf43-7bda882b3e64",
   "metadata": {},
   "outputs": [],
   "source": [
    "target_curve_name = \"total_hosp\"\n",
    "predictors = [\"foph_test_d\", \"foph_cases_d\", \"foph_hosp_d\", \"foph_hospcapacity_d\"]\n",
    "ini_date = \"2020-05-01\"\n",
    "\n",
    "train_all_cantons(\n",
    "    target_curve_name,\n",
    "    predictors,\n",
    "    ini_date=ini_date,\n",
    "    path=\"saved_models_dash\",\n",
    ")"
   ]
  },
  {
   "cell_type": "code",
   "execution_count": 3,
   "id": "58c01acb-301c-436d-80da-1e00d102cc12",
   "metadata": {},
   "outputs": [
    {
     "name": "stdout",
     "output_type": "stream",
     "text": [
      "CPU times: user 5h 11min 49s, sys: 47 s, total: 5h 12min 36s\n",
      "Wall time: 5h 51min 21s\n"
     ]
    }
   ],
   "source": [
    "%%time\n",
    "target_curve_name = \"icu_patients\"\n",
    "predictors = [\"foph_test_d\", \"foph_cases_d\", \"foph_hosp_d\", \"foph_hospcapacity_d\"]\n",
    "ini_date = \"2020-05-01\"\n",
    "\n",
    "train_all_cantons(\n",
    "    target_curve_name,\n",
    "    predictors,\n",
    "    ini_date=ini_date,\n",
    "    path=\"saved_models_dash\",\n",
    ")"
   ]
  },
  {
   "cell_type": "code",
   "execution_count": null,
   "id": "12d50dec-b15d-4396-8275-18adf48d8b73",
   "metadata": {},
   "outputs": [],
   "source": []
  }
 ],
 "metadata": {
  "kernelspec": {
   "display_name": "Python 3 (ipykernel)",
   "language": "python",
   "name": "python3"
  },
  "language_info": {
   "codemirror_mode": {
    "name": "ipython",
    "version": 3
   },
   "file_extension": ".py",
   "mimetype": "text/x-python",
   "name": "python",
   "nbconvert_exporter": "python",
   "pygments_lexer": "ipython3",
   "version": "3.9.12"
  }
 },
 "nbformat": 4,
 "nbformat_minor": 5
}
